{
 "cells": [
  {
   "cell_type": "code",
   "execution_count": 147,
   "metadata": {},
   "outputs": [],
   "source": [
    "import pandas as pd\n",
    "import numpy as np\n",
    "import matplotlib.pyplot as plt\n",
    "import sklearn.datasets as datasets\n",
    "import seaborn as sns\n",
    "from sklearn.linear_model import LinearRegression\n",
    "from sklearn.metrics import r2_score, mean_squared_error, mean_absolute_error\n",
    "from sklearn.model_selection import train_test_split\n",
    "from sklearn.preprocessing import PolynomialFeatures\n",
    "from sklearn.pipeline import make_pipeline\n",
    "from sklearn import preprocessing\n",
    "from sklearn.preprocessing import LabelEncoder\n",
    "from sklearn.metrics import accuracy_score, classification_report \n",
    "from sklearn.linear_model import LogisticRegression\n",
    "from sklearn.metrics import confusion_matrix\n",
    "from sklearn.metrics import roc_curve, roc_auc_score\n",
    "from sklearn.cluster import KMeans\n",
    "from sklearn import metrics\n"
   ]
  },
  {
   "cell_type": "code",
   "execution_count": 148,
   "metadata": {},
   "outputs": [
    {
     "data": {
      "text/html": [
       "<div>\n",
       "<style scoped>\n",
       "    .dataframe tbody tr th:only-of-type {\n",
       "        vertical-align: middle;\n",
       "    }\n",
       "\n",
       "    .dataframe tbody tr th {\n",
       "        vertical-align: top;\n",
       "    }\n",
       "\n",
       "    .dataframe thead th {\n",
       "        text-align: right;\n",
       "    }\n",
       "</style>\n",
       "<table border=\"1\" class=\"dataframe\">\n",
       "  <thead>\n",
       "    <tr style=\"text-align: right;\">\n",
       "      <th></th>\n",
       "      <th>Unnamed: 0</th>\n",
       "      <th>Num</th>\n",
       "      <th>Title</th>\n",
       "      <th>Year</th>\n",
       "      <th>Released</th>\n",
       "      <th>Runtime</th>\n",
       "      <th>Genre</th>\n",
       "      <th>Director</th>\n",
       "      <th>Writer</th>\n",
       "      <th>Actors</th>\n",
       "      <th>...</th>\n",
       "      <th>Awards</th>\n",
       "      <th>Metascore</th>\n",
       "      <th>imdbRating</th>\n",
       "      <th>imdbVotes</th>\n",
       "      <th>imdbID</th>\n",
       "      <th>Type</th>\n",
       "      <th>DVD</th>\n",
       "      <th>BoxOffice</th>\n",
       "      <th>Production</th>\n",
       "      <th>Website</th>\n",
       "    </tr>\n",
       "  </thead>\n",
       "  <tbody>\n",
       "    <tr>\n",
       "      <th>0</th>\n",
       "      <td>0</td>\n",
       "      <td>1</td>\n",
       "      <td>The Shawshank Redemption</td>\n",
       "      <td>1994</td>\n",
       "      <td>14 Oct 1994</td>\n",
       "      <td>142 min</td>\n",
       "      <td>Crime, Drama</td>\n",
       "      <td>Frank Darabont</td>\n",
       "      <td>Stephen King (short story \"Rita Hayworth and S...</td>\n",
       "      <td>Tim Robbins, Morgan Freeman, Bob Gunton, Willi...</td>\n",
       "      <td>...</td>\n",
       "      <td>Nominated for 7 Oscars. Another 19 wins &amp; 30 n...</td>\n",
       "      <td>80.0</td>\n",
       "      <td>9.3</td>\n",
       "      <td>1,825,626</td>\n",
       "      <td>tt0111161</td>\n",
       "      <td>movie</td>\n",
       "      <td>27 Jan 1998</td>\n",
       "      <td>NaN</td>\n",
       "      <td>Columbia Pictures</td>\n",
       "      <td>NaN</td>\n",
       "    </tr>\n",
       "    <tr>\n",
       "      <th>1</th>\n",
       "      <td>1</td>\n",
       "      <td>2</td>\n",
       "      <td>The Godfather</td>\n",
       "      <td>1972</td>\n",
       "      <td>24 Mar 1972</td>\n",
       "      <td>175 min</td>\n",
       "      <td>Crime, Drama</td>\n",
       "      <td>Francis Ford Coppola</td>\n",
       "      <td>Mario Puzo (screenplay), Francis Ford Coppola ...</td>\n",
       "      <td>Marlon Brando, Al Pacino, James Caan, Richard ...</td>\n",
       "      <td>...</td>\n",
       "      <td>Won 3 Oscars. Another 23 wins &amp; 27 nominations.</td>\n",
       "      <td>100.0</td>\n",
       "      <td>9.2</td>\n",
       "      <td>1,243,444</td>\n",
       "      <td>tt0068646</td>\n",
       "      <td>movie</td>\n",
       "      <td>09 Oct 2001</td>\n",
       "      <td>NaN</td>\n",
       "      <td>Paramount Pictures</td>\n",
       "      <td>http://www.thegodfather.com</td>\n",
       "    </tr>\n",
       "    <tr>\n",
       "      <th>2</th>\n",
       "      <td>2</td>\n",
       "      <td>3</td>\n",
       "      <td>The Godfather: Part II</td>\n",
       "      <td>1974</td>\n",
       "      <td>20 Dec 1974</td>\n",
       "      <td>202 min</td>\n",
       "      <td>Crime, Drama</td>\n",
       "      <td>Francis Ford Coppola</td>\n",
       "      <td>Francis Ford Coppola (screenplay), Mario Puzo ...</td>\n",
       "      <td>Al Pacino, Robert Duvall, Diane Keaton, Robert...</td>\n",
       "      <td>...</td>\n",
       "      <td>Won 6 Oscars. Another 10 wins &amp; 20 nominations.</td>\n",
       "      <td>85.0</td>\n",
       "      <td>9.0</td>\n",
       "      <td>856,870</td>\n",
       "      <td>tt0071562</td>\n",
       "      <td>movie</td>\n",
       "      <td>24 May 2005</td>\n",
       "      <td>NaN</td>\n",
       "      <td>Paramount Pictures</td>\n",
       "      <td>http://www.thegodfather.com/</td>\n",
       "    </tr>\n",
       "    <tr>\n",
       "      <th>3</th>\n",
       "      <td>3</td>\n",
       "      <td>4</td>\n",
       "      <td>The Dark Knight</td>\n",
       "      <td>2008</td>\n",
       "      <td>18 Jul 2008</td>\n",
       "      <td>152 min</td>\n",
       "      <td>Action, Crime, Drama</td>\n",
       "      <td>Christopher Nolan</td>\n",
       "      <td>Jonathan Nolan (screenplay), Christopher Nolan...</td>\n",
       "      <td>Christian Bale, Heath Ledger, Aaron Eckhart, M...</td>\n",
       "      <td>...</td>\n",
       "      <td>Won 2 Oscars. Another 151 wins &amp; 153 nominations.</td>\n",
       "      <td>82.0</td>\n",
       "      <td>9.0</td>\n",
       "      <td>1,802,351</td>\n",
       "      <td>tt0468569</td>\n",
       "      <td>movie</td>\n",
       "      <td>09 Dec 2008</td>\n",
       "      <td>$533,316,061</td>\n",
       "      <td>Warner Bros. Pictures/Legendary</td>\n",
       "      <td>http://thedarkknight.warnerbros.com/</td>\n",
       "    </tr>\n",
       "    <tr>\n",
       "      <th>4</th>\n",
       "      <td>4</td>\n",
       "      <td>5</td>\n",
       "      <td>12 Angry Men</td>\n",
       "      <td>1957</td>\n",
       "      <td>01 Apr 1957</td>\n",
       "      <td>96 min</td>\n",
       "      <td>Crime, Drama</td>\n",
       "      <td>Sidney Lumet</td>\n",
       "      <td>Reginald Rose (story), Reginald Rose (screenplay)</td>\n",
       "      <td>Martin Balsam, John Fiedler, Lee J. Cobb, E.G....</td>\n",
       "      <td>...</td>\n",
       "      <td>Nominated for 3 Oscars. Another 16 wins &amp; 8 no...</td>\n",
       "      <td>96.0</td>\n",
       "      <td>8.9</td>\n",
       "      <td>494,215</td>\n",
       "      <td>tt0050083</td>\n",
       "      <td>movie</td>\n",
       "      <td>06 Mar 2001</td>\n",
       "      <td>NaN</td>\n",
       "      <td>Criterion Collection</td>\n",
       "      <td>http://www.criterion.com/films/27871-12-angry-men</td>\n",
       "    </tr>\n",
       "  </tbody>\n",
       "</table>\n",
       "<p>5 rows × 23 columns</p>\n",
       "</div>"
      ],
      "text/plain": [
       "   Unnamed: 0  Num                     Title  Year     Released  Runtime  \\\n",
       "0           0    1  The Shawshank Redemption  1994  14 Oct 1994  142 min   \n",
       "1           1    2             The Godfather  1972  24 Mar 1972  175 min   \n",
       "2           2    3    The Godfather: Part II  1974  20 Dec 1974  202 min   \n",
       "3           3    4           The Dark Knight  2008  18 Jul 2008  152 min   \n",
       "4           4    5              12 Angry Men  1957  01 Apr 1957   96 min   \n",
       "\n",
       "                  Genre              Director  \\\n",
       "0          Crime, Drama        Frank Darabont   \n",
       "1          Crime, Drama  Francis Ford Coppola   \n",
       "2          Crime, Drama  Francis Ford Coppola   \n",
       "3  Action, Crime, Drama     Christopher Nolan   \n",
       "4          Crime, Drama          Sidney Lumet   \n",
       "\n",
       "                                              Writer  \\\n",
       "0  Stephen King (short story \"Rita Hayworth and S...   \n",
       "1  Mario Puzo (screenplay), Francis Ford Coppola ...   \n",
       "2  Francis Ford Coppola (screenplay), Mario Puzo ...   \n",
       "3  Jonathan Nolan (screenplay), Christopher Nolan...   \n",
       "4  Reginald Rose (story), Reginald Rose (screenplay)   \n",
       "\n",
       "                                              Actors  ...  \\\n",
       "0  Tim Robbins, Morgan Freeman, Bob Gunton, Willi...  ...   \n",
       "1  Marlon Brando, Al Pacino, James Caan, Richard ...  ...   \n",
       "2  Al Pacino, Robert Duvall, Diane Keaton, Robert...  ...   \n",
       "3  Christian Bale, Heath Ledger, Aaron Eckhart, M...  ...   \n",
       "4  Martin Balsam, John Fiedler, Lee J. Cobb, E.G....  ...   \n",
       "\n",
       "                                              Awards Metascore imdbRating  \\\n",
       "0  Nominated for 7 Oscars. Another 19 wins & 30 n...      80.0        9.3   \n",
       "1    Won 3 Oscars. Another 23 wins & 27 nominations.     100.0        9.2   \n",
       "2    Won 6 Oscars. Another 10 wins & 20 nominations.      85.0        9.0   \n",
       "3  Won 2 Oscars. Another 151 wins & 153 nominations.      82.0        9.0   \n",
       "4  Nominated for 3 Oscars. Another 16 wins & 8 no...      96.0        8.9   \n",
       "\n",
       "   imdbVotes     imdbID   Type          DVD     BoxOffice  \\\n",
       "0  1,825,626  tt0111161  movie  27 Jan 1998           NaN   \n",
       "1  1,243,444  tt0068646  movie  09 Oct 2001           NaN   \n",
       "2    856,870  tt0071562  movie  24 May 2005           NaN   \n",
       "3  1,802,351  tt0468569  movie  09 Dec 2008  $533,316,061   \n",
       "4    494,215  tt0050083  movie  06 Mar 2001           NaN   \n",
       "\n",
       "                        Production  \\\n",
       "0                Columbia Pictures   \n",
       "1               Paramount Pictures   \n",
       "2               Paramount Pictures   \n",
       "3  Warner Bros. Pictures/Legendary   \n",
       "4             Criterion Collection   \n",
       "\n",
       "                                             Website  \n",
       "0                                                NaN  \n",
       "1                        http://www.thegodfather.com  \n",
       "2                       http://www.thegodfather.com/  \n",
       "3               http://thedarkknight.warnerbros.com/  \n",
       "4  http://www.criterion.com/films/27871-12-angry-men  \n",
       "\n",
       "[5 rows x 23 columns]"
      ]
     },
     "execution_count": 148,
     "metadata": {},
     "output_type": "execute_result"
    }
   ],
   "source": [
    "imdb_df = pd.read_csv(\"A:/Documents/School/Project401/ML-For-Beginners/5-Clustering/data/imdb_top250_movies.csv\")\n",
    "imdb_df.head()"
   ]
  },
  {
   "cell_type": "code",
   "execution_count": 149,
   "metadata": {},
   "outputs": [],
   "source": [
    "from sklearn.preprocessing import LabelEncoder\n",
    "le = LabelEncoder()\n",
    "\n",
    "new_columns = ['imdbVotes', 'Year', 'imdbRating', 'Metascore']\n",
    "\n",
    "new_imdb = imdb_df.drop([c for c in imdb_df.columns if c not in new_columns], axis=1)\n",
    "\n",
    "new_imdb.dropna(inplace=True)\n",
    "\n",
    "y = new_imdb['imdbVotes']\n",
    "\n",
    "new_imdb['imdbVotes'] = le.fit_transform(new_imdb['imdbVotes'])\n",
    "\n",
    "y = le.transform(y)\n"
   ]
  },
  {
   "cell_type": "code",
   "execution_count": 150,
   "metadata": {},
   "outputs": [
    {
     "data": {
      "text/plain": [
       "array([0, 0, 1, 0, 1, 1, 0, 0, 0, 0, 0, 1, 0, 0, 1, 1, 0, 1, 0, 0, 1, 1,\n",
       "       1, 1, 0, 1, 0, 0, 1, 0, 1, 1, 1, 1, 1, 1, 0, 1, 1, 0, 1, 1, 0, 0,\n",
       "       1, 0, 1, 1, 1, 0, 1, 1, 1, 1, 0, 1, 0, 1, 1, 0, 1, 0, 1, 0, 1, 1,\n",
       "       1, 0, 1, 0, 1, 1, 0, 1, 0, 0, 0, 1, 0, 0, 0, 0, 0, 0, 1, 0, 0, 1,\n",
       "       0, 1, 1, 0, 0, 1, 0, 1, 1, 0, 1, 1, 1, 1, 1, 0, 0, 1, 1, 0, 0, 1,\n",
       "       0, 0, 0, 0, 0, 0, 0, 0, 0, 0, 1, 1, 1, 0, 1, 1, 1, 0, 1, 1, 1, 0,\n",
       "       0, 1, 1, 1, 1, 0, 0, 1, 0, 0, 1, 0, 0, 1, 1, 0, 0, 0, 1, 0, 1, 0,\n",
       "       0, 0, 1, 1, 0, 1, 0, 1, 0, 0, 0, 1, 0, 0, 0, 1, 1, 1, 0, 1, 1, 1,\n",
       "       1])"
      ]
     },
     "execution_count": 150,
     "metadata": {},
     "output_type": "execute_result"
    }
   ],
   "source": [
    "nclusters = 2 \n",
    "seed = 0\n",
    "\n",
    "km = KMeans(n_clusters=nclusters, random_state=seed)\n",
    "km.fit(new_imdb)\n",
    "\n",
    "# Predict the cluster for each data point\n",
    "\n",
    "y_cluster_kmeans = km.predict(new_imdb)\n",
    "y_cluster_kmeans"
   ]
  },
  {
   "cell_type": "code",
   "execution_count": 151,
   "metadata": {},
   "outputs": [
    {
     "data": {
      "text/plain": [
       "0.5097081186553546"
      ]
     },
     "execution_count": 151,
     "metadata": {},
     "output_type": "execute_result"
    }
   ],
   "source": [
    "score = metrics.silhouette_score(new_imdb, y_cluster_kmeans)\n",
    "score"
   ]
  },
  {
   "cell_type": "code",
   "execution_count": 152,
   "metadata": {},
   "outputs": [
    {
     "name": "stderr",
     "output_type": "stream",
     "text": [
      "c:\\Users\\G4M3R\\anaconda3\\lib\\site-packages\\sklearn\\cluster\\_kmeans.py:1036: UserWarning: KMeans is known to have a memory leak on Windows with MKL, when there are less chunks than available threads. You can avoid it by setting the environment variable OMP_NUM_THREADS=1.\n",
      "  warnings.warn(\n"
     ]
    }
   ],
   "source": [
    "wcss = []\n",
    "\n",
    "for i in range(1, 11):\n",
    "    kmeans = KMeans(n_clusters = i, init = 'k-means++', random_state = 42)\n",
    "    kmeans.fit(new_imdb)\n",
    "    wcss.append(kmeans.inertia_)"
   ]
  },
  {
   "cell_type": "code",
   "execution_count": 153,
   "metadata": {},
   "outputs": [
    {
     "name": "stderr",
     "output_type": "stream",
     "text": [
      "c:\\Users\\G4M3R\\anaconda3\\lib\\site-packages\\seaborn\\_decorators.py:36: FutureWarning: Pass the following variables as keyword args: x, y. From version 0.12, the only valid positional argument will be `data`, and passing other arguments without an explicit keyword will result in an error or misinterpretation.\n",
      "  warnings.warn(\n"
     ]
    },
    {
     "data": {
      "image/png": "[encoded data removed]",
      "text/plain": [
       "<Figure size 720x360 with 1 Axes>"
      ]
     },
     "metadata": {
      "needs_background": "light"
     },
     "output_type": "display_data"
    }
   ],
   "source": [
    "plt.figure(figsize=(10,5))\n",
    "sns.lineplot(range(1, 11), wcss,marker='o',color='red')\n",
    "plt.title('Elbow')\n",
    "plt.xlabel('Number of clusters')\n",
    "plt.ylabel('WCSS')\n",
    "plt.show()"
   ]
  },
  {
   "cell_type": "markdown",
   "metadata": {},
   "source": [
    "The \"elbow method\" shows the bend is at around 2, which is also the optimal cluster."
   ]
  },
  {
   "cell_type": "code",
   "execution_count": 155,
   "metadata": {},
   "outputs": [
    {
     "data": {
      "image/png": "[encoded data removed]",
      "text/plain": [
       "<Figure size 432x288 with 1 Axes>"
      ]
     },
     "metadata": {
      "needs_background": "light"
     },
     "output_type": "display_data"
    }
   ],
   "source": [
    "kmeans = KMeans(n_clusters = 2)\n",
    "kmeans.fit(new_imdb)\n",
    "labels = kmeans.predict(new_imdb)\n",
    "plt.scatter(new_imdb['imdbRating'],new_imdb['Metascore'],c = labels)\n",
    "plt.xlabel('imdbRating')\n",
    "plt.ylabel('Metascore')\n",
    "plt.show()"
   ]
  },
  {
   "cell_type": "code",
   "execution_count": 156,
   "metadata": {},
   "outputs": [
    {
     "name": "stdout",
     "output_type": "stream",
     "text": [
      "Result: 1 out of 177 samples were correctly labeled.\n",
      "Accuracy score: 0.01\n"
     ]
    }
   ],
   "source": [
    "labels = kmeans.labels_\n",
    "\n",
    "correct_labels = sum(y == labels)\n",
    "\n",
    "print(\"Result: %d out of %d samples were correctly labeled.\" % (correct_labels, y.size))\n",
    "\n",
    "print('Accuracy score: {0:0.2f}'. format(correct_labels/float(y.size)))"
   ]
  }
 ],
 "metadata": {
  "kernelspec": {
   "display_name": "Python 3.9.12 ('base')",
   "language": "python",
   "name": "python3"
  },
  "language_info": {
   "codemirror_mode": {
    "name": "ipython",
    "version": 3
   },
   "file_extension": ".py",
   "mimetype": "text/x-python",
   "name": "python",
   "nbconvert_exporter": "python",
   "pygments_lexer": "ipython3",
   "version": "3.9.12"
  },
  "orig_nbformat": 4,
  "vscode": {
   "interpreter": {
    "hash": "b690b3a6c17d29726da969b9c49fa8f913f56f73b4a39f8dda77d8af99eb3d50"
   }
  }
 },
 "nbformat": 4,
 "nbformat_minor": 2
}
